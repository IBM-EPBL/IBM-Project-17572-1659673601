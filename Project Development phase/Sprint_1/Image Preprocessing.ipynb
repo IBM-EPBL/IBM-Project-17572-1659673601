{
  "nbformat": 4,
  "nbformat_minor": 0,
  "metadata": {
    "colab": {
      "provenance": [],
      "collapsed_sections": []
    },
    "kernelspec": {
      "name": "python3",
      "display_name": "Python 3"
    },
    "language_info": {
      "name": "python"
    }
  },
  "cells": [
    {
      "cell_type": "markdown",
      "source": [
        "importing image data generator library"
      ],
      "metadata": {
        "id": "xzggdlAUa6Xz"
      }
    },
    {
      "cell_type": "code",
      "source": [
        "from keras.preprocessing.image import ImageDataGenerator"
      ],
      "metadata": {
        "id": "ARE7QBMPa88P"
      },
      "execution_count": 1,
      "outputs": []
    },
    {
      "cell_type": "markdown",
      "source": [
        "Image Data Augmentation"
      ],
      "metadata": {
        "id": "3jq27qUVcMtI"
      }
    },
    {
      "cell_type": "code",
      "source": [
        "#Configuring image Data Generator Class\n",
        "\n",
        "#Setting Parameter for Image Augmentation for training data\n",
        "\n",
        "train_datagen = ImageDataGenerator(rescale = 1./255, shear_range = 0.2, zoom_range = 0.2, horizontal_flip = True)\n",
        "\n",
        "#Image Data Augmentation for testing data\n",
        "\n",
        "test_datagen = ImageDataGenerator(rescale = 1./255)"
      ],
      "metadata": {
        "id": "yuh-Xe7icOzP"
      },
      "execution_count": 2,
      "outputs": []
    },
    {
      "cell_type": "markdown",
      "source": [
        "Apply ImageDataGenerator Functionality To Trainset And Testset"
      ],
      "metadata": {
        "id": "ImSWahJXcTjN"
      }
    },
    {
      "cell_type": "code",
      "source": [
        "#Performing data augmentation to train data\n",
        "\n",
        "x_train = train_datagen.flow_from_directory('/content/drive/MyDrive/dataset/train_set', target_size = (64,64), batch_size = 5, color_mode = 'rgb', class_mode = 'categorical')\n",
        "\n",
        "#performing data augmentation to test data\n",
        "\n",
        "x_test = test_datagen.flow_from_directory('/content/drive/MyDrive/dataset/test_set', target_size = (64,64), batch_size = 5, color_mode = 'rgb', class_mode = 'categorical')"
      ],
      "metadata": {
        "colab": {
          "base_uri": "https://localhost:8080/"
        },
        "id": "2ZhSAnK2dZ1u",
        "outputId": "4c041610-b2a5-4272-8250-10eacd32fde0"
      },
      "execution_count": 6,
      "outputs": [
        {
          "output_type": "stream",
          "name": "stdout",
          "text": [
            "Found 755 images belonging to 4 classes.\n",
            "Found 198 images belonging to 4 classes.\n"
          ]
        }
      ]
    }
  ]
}