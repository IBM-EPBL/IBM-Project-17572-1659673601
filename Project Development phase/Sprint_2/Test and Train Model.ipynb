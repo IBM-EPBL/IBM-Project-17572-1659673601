{
  "nbformat": 4,
  "nbformat_minor": 0,
  "metadata": {
    "colab": {
      "provenance": [],
      "collapsed_sections": []
    },
    "kernelspec": {
      "name": "python3",
      "display_name": "Python 3"
    },
    "language_info": {
      "name": "python"
    }
  },
  "cells": [
    {
      "cell_type": "code",
      "source": [
        "from google.colab import drive\n",
        "drive.mount('/content/drive')"
      ],
      "metadata": {
        "colab": {
          "base_uri": "https://localhost:8080/"
        },
        "id": "V-VCmxPYL2-5",
        "outputId": "3acda714-3dcb-4ece-b081-d72d1e6cfa61"
      },
      "execution_count": 1,
      "outputs": [
        {
          "output_type": "stream",
          "name": "stdout",
          "text": [
            "Drive already mounted at /content/drive; to attempt to forcibly remount, call drive.mount(\"/content/drive\", force_remount=True).\n"
          ]
        }
      ]
    },
    {
      "cell_type": "code",
      "source": [
        "from tensorflow.keras.preprocessing.image import ImageDataGenerator\n",
        "train_datagen = ImageDataGenerator(rescale=1./255,zoom_range=0.2,horizontal_flip=True,shear_range=0.2)\n",
        "test_datagen = ImageDataGenerator(rescale=1./255)"
      ],
      "metadata": {
        "id": "gAjnYexpMFRL"
      },
      "execution_count": 2,
      "outputs": []
    },
    {
      "cell_type": "code",
      "source": [
        "x_train=train_datagen.flow_from_directory(\"/content/drive/MyDrive/dataset/train_set\",target_size=(64,64),class_mode='categorical',batch_size=5,color_mode='rgb')\n",
        "x_test=test_datagen.flow_from_directory(r\"/content/drive/MyDrive/dataset/test_set\",target_size=(64,64),class_mode='categorical',batch_size=5,color_mode='rgb')"
      ],
      "metadata": {
        "colab": {
          "base_uri": "https://localhost:8080/"
        },
        "id": "R80uBzE5MMWm",
        "outputId": "c6632075-4dd7-4fe4-a0b2-2083589f06d1"
      },
      "execution_count": 3,
      "outputs": [
        {
          "output_type": "stream",
          "name": "stdout",
          "text": [
            "Found 755 images belonging to 4 classes.\n",
            "Found 198 images belonging to 4 classes.\n"
          ]
        }
      ]
    },
    {
      "cell_type": "markdown",
      "source": [
        "Importing Neccessary Libraries"
      ],
      "metadata": {
        "id": "U-obb-lPmaZY"
      }
    },
    {
      "cell_type": "code",
      "source": [
        "import numpy as np\n",
        "import tensorflow\n",
        "from tensorflow.keras.models import Sequential\n",
        "from tensorflow.keras import layers\n",
        "from tensorflow.keras.layers import Dense,Flatten\n",
        "from tensorflow.keras.layers import Conv2D,MaxPooling2D\n",
        "from keras.preprocessing.image import ImageDataGenerator\n",
        "\n"
      ],
      "metadata": {
        "id": "Bg2y_-ohmcIE"
      },
      "execution_count": 4,
      "outputs": []
    },
    {
      "cell_type": "code",
      "source": [
        "model=Sequential()\n",
        "model.add(Conv2D(32,(3,3),activation=\"relu\",input_shape=(64,64,3)))\n",
        "model.add(MaxPooling2D(pool_size=(2,2)))\n",
        "model.add(Conv2D(32,(3,3),activation=\"relu\"))\n",
        "model.add(MaxPooling2D(pool_size=(2,2)))\n",
        "model.add(Flatten())\n",
        "model.add(Dense(units=128,activation='relu'))\n",
        "model.add(Dense(units=4,activation='softmax'))\n",
        "model.compile(loss=\"categorical_crossentropy\",metrics=[\"accuracy\"],optimizer='adam')\n"
      ],
      "metadata": {
        "id": "KhDRF4Yj4KHS"
      },
      "execution_count": 5,
      "outputs": []
    },
    {
      "cell_type": "code",
      "source": [
        "model.summary()"
      ],
      "metadata": {
        "colab": {
          "base_uri": "https://localhost:8080/"
        },
        "id": "1hK4fR_26xZ0",
        "outputId": "c58293ad-26ce-4233-cfac-4b3ad053c426"
      },
      "execution_count": 6,
      "outputs": [
        {
          "output_type": "stream",
          "name": "stdout",
          "text": [
            "Model: \"sequential\"\n",
            "_________________________________________________________________\n",
            " Layer (type)                Output Shape              Param #   \n",
            "=================================================================\n",
            " conv2d (Conv2D)             (None, 62, 62, 32)        896       \n",
            "                                                                 \n",
            " max_pooling2d (MaxPooling2D  (None, 31, 31, 32)       0         \n",
            " )                                                               \n",
            "                                                                 \n",
            " conv2d_1 (Conv2D)           (None, 29, 29, 32)        9248      \n",
            "                                                                 \n",
            " max_pooling2d_1 (MaxPooling  (None, 14, 14, 32)       0         \n",
            " 2D)                                                             \n",
            "                                                                 \n",
            " flatten (Flatten)           (None, 6272)              0         \n",
            "                                                                 \n",
            " dense (Dense)               (None, 128)               802944    \n",
            "                                                                 \n",
            " dense_1 (Dense)             (None, 4)                 516       \n",
            "                                                                 \n",
            "=================================================================\n",
            "Total params: 813,604\n",
            "Trainable params: 813,604\n",
            "Non-trainable params: 0\n",
            "_________________________________________________________________\n"
          ]
        }
      ]
    },
    {
      "cell_type": "code",
      "source": [
        "model.fit_generator(generator=x_train,steps_per_epoch=len(x_train),validation_data=x_test,validation_steps=len(x_test),epochs=20)"
      ],
      "metadata": {
        "colab": {
          "base_uri": "https://localhost:8080/"
        },
        "id": "_k3JXAAWMsTm",
        "outputId": "7479e2f4-14f4-4514-c6c0-2a28fd6d94c6"
      },
      "execution_count": 7,
      "outputs": [
        {
          "output_type": "stream",
          "name": "stderr",
          "text": [
            "/usr/local/lib/python3.7/dist-packages/ipykernel_launcher.py:1: UserWarning: `Model.fit_generator` is deprecated and will be removed in a future version. Please use `Model.fit`, which supports generators.\n",
            "  \"\"\"Entry point for launching an IPython kernel.\n"
          ]
        },
        {
          "output_type": "stream",
          "name": "stdout",
          "text": [
            "Epoch 1/20\n",
            "151/151 [==============================] - 210s 1s/step - loss: 1.2415 - accuracy: 0.4278 - val_loss: 0.9365 - val_accuracy: 0.6414\n",
            "Epoch 2/20\n",
            "151/151 [==============================] - 29s 191ms/step - loss: 0.9163 - accuracy: 0.6305 - val_loss: 0.7664 - val_accuracy: 0.7222\n",
            "Epoch 3/20\n",
            "151/151 [==============================] - 29s 189ms/step - loss: 0.7469 - accuracy: 0.7060 - val_loss: 0.7969 - val_accuracy: 0.6768\n",
            "Epoch 4/20\n",
            "151/151 [==============================] - 27s 181ms/step - loss: 0.6392 - accuracy: 0.7550 - val_loss: 0.7221 - val_accuracy: 0.7525\n",
            "Epoch 5/20\n",
            "151/151 [==============================] - 28s 187ms/step - loss: 0.6785 - accuracy: 0.7245 - val_loss: 0.8125 - val_accuracy: 0.7172\n",
            "Epoch 6/20\n",
            "151/151 [==============================] - 27s 181ms/step - loss: 0.5984 - accuracy: 0.7722 - val_loss: 0.7043 - val_accuracy: 0.7626\n",
            "Epoch 7/20\n",
            "151/151 [==============================] - 28s 186ms/step - loss: 0.5168 - accuracy: 0.8093 - val_loss: 0.8909 - val_accuracy: 0.7020\n",
            "Epoch 8/20\n",
            "151/151 [==============================] - 28s 187ms/step - loss: 0.4939 - accuracy: 0.8212 - val_loss: 0.7285 - val_accuracy: 0.7424\n",
            "Epoch 9/20\n",
            "151/151 [==============================] - 27s 181ms/step - loss: 0.4428 - accuracy: 0.8437 - val_loss: 0.9885 - val_accuracy: 0.6717\n",
            "Epoch 10/20\n",
            "151/151 [==============================] - 28s 188ms/step - loss: 0.3617 - accuracy: 0.8728 - val_loss: 0.8270 - val_accuracy: 0.7475\n",
            "Epoch 11/20\n",
            "151/151 [==============================] - 27s 179ms/step - loss: 0.3494 - accuracy: 0.8768 - val_loss: 0.8439 - val_accuracy: 0.7626\n",
            "Epoch 12/20\n",
            "151/151 [==============================] - 27s 180ms/step - loss: 0.3182 - accuracy: 0.8861 - val_loss: 0.9812 - val_accuracy: 0.7424\n",
            "Epoch 13/20\n",
            "151/151 [==============================] - 28s 187ms/step - loss: 0.3276 - accuracy: 0.8848 - val_loss: 0.8554 - val_accuracy: 0.7626\n",
            "Epoch 14/20\n",
            "151/151 [==============================] - 27s 182ms/step - loss: 0.3256 - accuracy: 0.8901 - val_loss: 1.0117 - val_accuracy: 0.7121\n",
            "Epoch 15/20\n",
            "151/151 [==============================] - 28s 187ms/step - loss: 0.2852 - accuracy: 0.8927 - val_loss: 1.0529 - val_accuracy: 0.7071\n",
            "Epoch 16/20\n",
            "151/151 [==============================] - 27s 182ms/step - loss: 0.3066 - accuracy: 0.8861 - val_loss: 0.8481 - val_accuracy: 0.7727\n",
            "Epoch 17/20\n",
            "151/151 [==============================] - 28s 187ms/step - loss: 0.2423 - accuracy: 0.9113 - val_loss: 0.9650 - val_accuracy: 0.7828\n",
            "Epoch 18/20\n",
            "151/151 [==============================] - 30s 198ms/step - loss: 0.1965 - accuracy: 0.9391 - val_loss: 1.0767 - val_accuracy: 0.7374\n",
            "Epoch 19/20\n",
            "151/151 [==============================] - 28s 184ms/step - loss: 0.1874 - accuracy: 0.9351 - val_loss: 1.2942 - val_accuracy: 0.7172\n",
            "Epoch 20/20\n",
            "151/151 [==============================] - 29s 193ms/step - loss: 0.2020 - accuracy: 0.9285 - val_loss: 1.4587 - val_accuracy: 0.7172\n"
          ]
        },
        {
          "output_type": "execute_result",
          "data": {
            "text/plain": [
              "<keras.callbacks.History at 0x7fc97ca7ab50>"
            ]
          },
          "metadata": {},
          "execution_count": 7
        }
      ]
    },
    {
      "cell_type": "code",
      "source": [
        "model.save('disaster.h5')\n",
        "model_json=model.to_json()\n",
        "with open(\"model-bw.json\",\"w\") as json_file:\n",
        "  json_file.write(model_json)"
      ],
      "metadata": {
        "id": "9z3MgGRoBtsY"
      },
      "execution_count": 8,
      "outputs": []
    },
    {
      "cell_type": "code",
      "source": [
        "from tensorflow.keras.models import load_model\n",
        "from tensorflow.keras.preprocessing import image\n",
        "model=load_model('disaster.h5')"
      ],
      "metadata": {
        "id": "jV_Q4e-GCHkm"
      },
      "execution_count": 9,
      "outputs": []
    },
    {
      "cell_type": "code",
      "source": [
        "x_train.class_indices"
      ],
      "metadata": {
        "colab": {
          "base_uri": "https://localhost:8080/"
        },
        "id": "EQrWhm8oCtUW",
        "outputId": "23573a0e-084e-4d13-8e3f-0769496f3254"
      },
      "execution_count": 10,
      "outputs": [
        {
          "output_type": "execute_result",
          "data": {
            "text/plain": [
              "{'Cyclone': 0, 'Earthquake': 1, 'Flood': 2, 'Wildfire': 3}"
            ]
          },
          "metadata": {},
          "execution_count": 10
        }
      ]
    },
    {
      "cell_type": "code",
      "source": [
        "img = image.load_img(r\"/content/drive/MyDrive/dataset/test_set/Earthquake/1347.jpg\",target_size=(64,64))\n",
        "x=image.img_to_array(img)\n",
        "x=np.expand_dims(x,axis=0)\n",
        "index=['Cyclone','Earthquake','Flood','Wildfire']\n",
        "y=np.argmax(model.predict(x),axis=1)\n",
        "print(index[int(y)])"
      ],
      "metadata": {
        "colab": {
          "base_uri": "https://localhost:8080/"
        },
        "id": "MyqR_HK_DLXP",
        "outputId": "a253ab4d-cbfa-4c29-ea6a-324ab0ebb718"
      },
      "execution_count": 12,
      "outputs": [
        {
          "output_type": "stream",
          "name": "stdout",
          "text": [
            "1/1 [==============================] - 0s 112ms/step\n",
            "Earthquake\n"
          ]
        }
      ]
    },
    {
      "cell_type": "code",
      "source": [
        "img = image.load_img(r\"/content/drive/MyDrive/dataset/test_set/Flood/1027.jpg\",target_size=(64,64))\n",
        "x=image.img_to_array(img)\n",
        "x=np.expand_dims(x,axis=0)\n",
        "index=['Cyclone','Earthquake','Flood','Wildfire']\n",
        "y=np.argmax(model.predict(x),axis=1)\n",
        "print(index[int(y)])"
      ],
      "metadata": {
        "colab": {
          "base_uri": "https://localhost:8080/"
        },
        "id": "H7eF32lRDLHV",
        "outputId": "6cf7e962-7847-402b-b3f0-b3ece35e61f8"
      },
      "execution_count": 15,
      "outputs": [
        {
          "output_type": "stream",
          "name": "stdout",
          "text": [
            "1/1 [==============================] - 0s 16ms/step\n",
            "Flood\n"
          ]
        }
      ]
    }
  ]
}